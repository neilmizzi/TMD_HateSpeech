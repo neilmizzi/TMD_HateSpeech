{
 "cells": [
  {
   "cell_type": "markdown",
   "metadata": {
    "pycharm": {
     "name": "#%% md\n"
    }
   },
   "source": [
    "NB: Before starting, make sure to install all necessary requirements and Twint on your environment."
   ]
  },
  {
   "cell_type": "code",
   "execution_count": 5,
   "metadata": {},
   "outputs": [],
   "source": [
    "%%capture\n",
    "# Skip block if all requirements are already satisfied\n",
    "import sys\n",
    "!pip3 install -r twint/requirements.txt\n",
    "!pip3 install twint\n",
    "!pip3 install nest-asyncio"
   ]
  },
  {
   "cell_type": "markdown",
   "metadata": {
    "pycharm": {
     "name": "#%% md\n"
    }
   },
   "source": [
    "# Imports\n",
    "### Initialising variables"
   ]
  },
  {
   "cell_type": "code",
   "execution_count": 12,
   "metadata": {},
   "outputs": [],
   "source": [
    "import twint\n",
    "import csv\n",
    "import pandas as pd\n",
    "import nest_asyncio\n",
    "nest_asyncio.apply()\n",
    "tweets = []"
   ]
  },
  {
   "cell_type": "markdown",
   "metadata": {
    "pycharm": {
     "name": "#%% md\n"
    }
   },
   "source": [
    "# Data Scraping \n",
    "### Config and Execution\n",
    "\n",
    "Info about the configuration options for both Twint, \n",
    "the Tweets to look up and the User options can be found at\n",
    "https://github.com/twintproject/twint/wiki/Configuration\n"
   ]
  },
  {
   "cell_type": "code",
   "execution_count": 13,
   "metadata": {},
   "outputs": [
    {
     "name": "stdout",
     "output_type": "stream",
     "text": "Search Done. Output in ./data.csv\n"
    }
   ],
   "source": [
    "file_dir = './data.csv'\n",
    "c = twint.Config()                  \n",
    "c.Store_csv = True                      # Store as CSV\n",
    "c.Output = (file_dir)                   # Output file directory\n",
    "c.Limit = 100                           # No. of Tweet Limit\n",
    "c.Hide_output = True                    # Hide Output\n",
    "c.Username = 'realdonaldtrump'          # Username to look up\n",
    "\n",
    "\n",
    "twint.run.Search(c)\n",
    "print(\"Search Done. Output in \"+ file_dir)\n"
   ]
  },
  {
   "cell_type": "markdown",
   "metadata": {},
   "source": [
    "# Data Cleaning"
   ]
  },
  {
   "cell_type": "markdown",
   "metadata": {},
   "source": [
    "## Get Data\n",
    "NB: All the fields from the Twint API can be seen here:\n",
    "\n",
    "https://github.com/twintproject/twint/wiki/Tweet-attributes#attributes"
   ]
  },
  {
   "cell_type": "code",
   "execution_count": 32,
   "metadata": {},
   "outputs": [],
   "source": [
    "# Add Fields as necessary\n",
    "data = pd.read_csv(file_dir)[[\"tweet\", \"mentions\", \"hashtags\"]]\n",
    "tweets = data['tweet']"
   ]
  },
  {
   "cell_type": "markdown",
   "metadata": {},
   "source": [
    "## Clean Tweet text\n",
    "\n",
    "Here, we apply the following measures:\n",
    "- Stop-word removal\n",
    "- Lemmatisation\n",
    "- Truncation\n",
    "- Spelling Mistakes\n",
    "- Slang"
   ]
  },
  {
   "cell_type": "code",
   "execution_count": 37,
   "metadata": {},
   "outputs": [],
   "source": [
    "def clean_text(text):\n",
    "    pass\n",
    "\n",
    "cleaned_tweets = []"
   ]
  }
 ],
 "metadata": {
  "kernelspec": {
   "name": "python37464bitf11fe8824d0244f597f4f929b637ffe8",
   "language": "python",
   "display_name": "Python 3.7.4 64-bit"
  },
  "language_info": {
   "codemirror_mode": {
    "name": "ipython",
    "version": 3
   },
   "file_extension": ".py",
   "mimetype": "text/x-python",
   "name": "python",
   "nbconvert_exporter": "python",
   "pygments_lexer": "ipython3",
   "version": "3.7.4-final"
  },
  "pycharm": {
   "stem_cell": {
    "cell_type": "raw",
    "source": [],
    "metadata": {
     "collapsed": false
    }
   }
  }
 },
 "nbformat": 4,
 "nbformat_minor": 1
}